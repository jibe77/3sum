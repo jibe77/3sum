{
  "nbformat": 4,
  "nbformat_minor": 0,
  "metadata": {
    "colab": {
      "provenance": [],
      "authorship_tag": "ABX9TyMBLNerG/6rYno15oPlvvRt",
      "include_colab_link": true
    },
    "kernelspec": {
      "name": "python3",
      "display_name": "Python 3"
    },
    "language_info": {
      "name": "python"
    }
  },
  "cells": [
    {
      "cell_type": "markdown",
      "metadata": {
        "id": "view-in-github",
        "colab_type": "text"
      },
      "source": [
        "<a href=\"https://colab.research.google.com/github/jibe77/3sum/blob/master/python_mooc_bigdata_semaine_1.ipynb\" target=\"_parent\"><img src=\"https://colab.research.google.com/assets/colab-badge.svg\" alt=\"Open In Colab\"/></a>"
      ]
    },
    {
      "cell_type": "markdown",
      "source": [
        "# Semaine 1"
      ],
      "metadata": {
        "id": "os-a5Uil8P9h"
      }
    },
    {
      "cell_type": "markdown",
      "source": [
        "documentation officielle sur Python :\n",
        "\n",
        "*   https://docs.python.org/3/reference/index.html\n",
        "*   https://docs.python.org/3/library/\n"
      ],
      "metadata": {
        "id": "TBuEwdk6BvFz"
      }
    },
    {
      "cell_type": "code",
      "source": [
        "# ceci est un commentaire"
      ],
      "metadata": {
        "id": "rBX9ALM-_EIA"
      },
      "execution_count": null,
      "outputs": []
    },
    {
      "cell_type": "markdown",
      "source": [
        "ceci lance une commande Unix affichant la liste des fichier à la racine du système de fichier :"
      ],
      "metadata": {
        "id": "vzzIY_eqAoN1"
      }
    },
    {
      "cell_type": "code",
      "source": [
        "!ls /"
      ],
      "metadata": {
        "id": "DAJQM8tjAdDz"
      },
      "execution_count": null,
      "outputs": []
    },
    {
      "cell_type": "markdown",
      "source": [
        "affichage le contenu du fichier :"
      ],
      "metadata": {
        "id": "v_U7B0bEAugS"
      }
    },
    {
      "cell_type": "code",
      "source": [
        "!cat semaine1_1_env_python.py"
      ],
      "metadata": {
        "id": "3fARqMkLAhlB"
      },
      "execution_count": null,
      "outputs": []
    },
    {
      "cell_type": "markdown",
      "source": [
        "affiche un message :"
      ],
      "metadata": {
        "id": "NZ2DzQKPAyoN"
      }
    },
    {
      "cell_type": "code",
      "source": [
        "print(\"bonjour tout le monde !\")"
      ],
      "metadata": {
        "id": "Sbdz05HxAkF7"
      },
      "execution_count": null,
      "outputs": []
    },
    {
      "cell_type": "markdown",
      "source": [
        "les nombres"
      ],
      "metadata": {
        "id": "IpOyH3JAA4Nb"
      }
    },
    {
      "cell_type": "code",
      "source": [
        "print (2+1)\n",
        "print (3*4)"
      ],
      "metadata": {
        "colab": {
          "base_uri": "https://localhost:8080/"
        },
        "id": "VdPzlyBHA5ZR",
        "outputId": "e0090138-5d08-4bf2-eef9-fd8b643f675c"
      },
      "execution_count": 2,
      "outputs": [
        {
          "output_type": "stream",
          "name": "stdout",
          "text": [
            "3\n",
            "12\n"
          ]
        }
      ]
    },
    {
      "cell_type": "markdown",
      "source": [
        "Calcul de puissance, ici 2 à la puissance 3 :"
      ],
      "metadata": {
        "id": "gpGT7Wd_BCAL"
      }
    },
    {
      "cell_type": "code",
      "source": [
        "print (2**3)"
      ],
      "metadata": {
        "id": "MxPwqVO9A9PD"
      },
      "execution_count": null,
      "outputs": []
    },
    {
      "cell_type": "markdown",
      "source": [
        "La fonction type permet de savoir de quel type est une variable,  ici <class 'int'>"
      ],
      "metadata": {
        "id": "hJFCmm6GBMO3"
      }
    },
    {
      "cell_type": "code",
      "source": [
        "a = 3\n",
        "print(type(a))\n",
        "\n",
        "c = 2.1\n",
        "print(type(c))"
      ],
      "metadata": {
        "colab": {
          "base_uri": "https://localhost:8080/"
        },
        "id": "YhRVagL0BOng",
        "outputId": "7bcd29a9-54e9-4c9b-fa3e-6c4c228dd6d2"
      },
      "execution_count": 3,
      "outputs": [
        {
          "output_type": "stream",
          "name": "stdout",
          "text": [
            "<class 'int'>\n",
            "<class 'float'>\n"
          ]
        }
      ]
    },
    {
      "cell_type": "markdown",
      "source": [
        "Un nombre complexe est une expression mathématique qui combine une partie réelle et une partie imaginaire."
      ],
      "metadata": {
        "id": "_wUwl4JKBUlm"
      }
    },
    {
      "cell_type": "code",
      "source": [
        "a = 1.5 + 1j\n",
        "print(a.real)\n",
        "print(a.imag)\n",
        "print(type(a))\n",
        "\n",
        "print (2 > 1)\n",
        "print (type(2>1))"
      ],
      "metadata": {
        "id": "b-yCpLXhBZok"
      },
      "execution_count": null,
      "outputs": []
    },
    {
      "cell_type": "markdown",
      "source": [
        "Les nombres et changements de type"
      ],
      "metadata": {
        "id": "1EdcWR_4BcJr"
      }
    },
    {
      "cell_type": "code",
      "source": [
        "print(7*3.) # int * float produit un float\n",
        "print(type(7*3.))\n",
        "\n",
        "print(3/2) # int / int -> int en python 2, mais float en python 3\n",
        "print(3/2.) # int / float -> float\n",
        "a = 2\n",
        "print(3/float(2))"
      ],
      "metadata": {
        "id": "pQ4ZXyB9Bidg"
      },
      "execution_count": null,
      "outputs": []
    },
    {
      "cell_type": "markdown",
      "source": [
        "Division entière"
      ],
      "metadata": {
        "id": "3ZYgLiFkBk8u"
      }
    },
    {
      "cell_type": "code",
      "source": [
        "print(3//2)"
      ],
      "metadata": {
        "id": "aeG4DXpbBnw0"
      },
      "execution_count": null,
      "outputs": []
    },
    {
      "cell_type": "markdown",
      "source": [
        "Librairie \"math\""
      ],
      "metadata": {
        "id": "RBzeDCzmCBCI"
      }
    },
    {
      "cell_type": "code",
      "source": [
        "import math\n",
        "\n",
        "x = math.cos(2*math.pi)\n",
        "print(x)"
      ],
      "metadata": {
        "colab": {
          "base_uri": "https://localhost:8080/"
        },
        "id": "SBWOB-q0CIj8",
        "outputId": "0072c6e1-caa2-4974-a41e-3eadbed3ef06"
      },
      "execution_count": 4,
      "outputs": [
        {
          "output_type": "stream",
          "name": "stdout",
          "text": [
            "1.0\n"
          ]
        }
      ]
    },
    {
      "cell_type": "markdown",
      "source": [
        "syntaxe alternative plus rapide"
      ],
      "metadata": {
        "id": "tfY3qB6hCMLa"
      }
    },
    {
      "cell_type": "code",
      "source": [
        "from math import cos, pi\n",
        "\n",
        "x = cos(2*pi)\n",
        "print(x)"
      ],
      "metadata": {
        "colab": {
          "base_uri": "https://localhost:8080/"
        },
        "id": "gDobYHMfCO5g",
        "outputId": "4b3b0e95-927b-4c82-b486-7429c72c9c95"
      },
      "execution_count": 5,
      "outputs": [
        {
          "output_type": "stream",
          "name": "stdout",
          "text": [
            "1.0\n"
          ]
        }
      ]
    },
    {
      "cell_type": "markdown",
      "source": [
        "syntaxe alternative non recommandée"
      ],
      "metadata": {
        "id": "V-e3c8kPCUly"
      }
    },
    {
      "cell_type": "code",
      "source": [
        "from math import *\n",
        "print(tanh(1))"
      ],
      "metadata": {
        "id": "eOWfSIu5CVbL"
      },
      "execution_count": null,
      "outputs": []
    },
    {
      "cell_type": "markdown",
      "source": [
        "import avec alias"
      ],
      "metadata": {
        "id": "_eMeiDW2CaiV"
      }
    },
    {
      "cell_type": "code",
      "source": [
        "import math as m\n",
        "print(m.cos(1.))"
      ],
      "metadata": {
        "id": "imdaDANjCbNk"
      },
      "execution_count": null,
      "outputs": []
    },
    {
      "cell_type": "markdown",
      "source": [
        "affiche le contenu d'un module"
      ],
      "metadata": {
        "id": "W8c0-pV9Cdhe"
      }
    },
    {
      "cell_type": "code",
      "source": [
        "print(dir(math))"
      ],
      "metadata": {
        "id": "kAoxfZ49Cf2u"
      },
      "execution_count": null,
      "outputs": []
    },
    {
      "cell_type": "markdown",
      "source": [
        "en mode intéractif, la fonction help est très utile"
      ],
      "metadata": {
        "id": "2DKuKjnwCh2X"
      }
    },
    {
      "cell_type": "code",
      "source": [
        "help(math)\n",
        "help(math.log)"
      ],
      "metadata": {
        "colab": {
          "base_uri": "https://localhost:8080/"
        },
        "id": "7AyMSS7zClWu",
        "outputId": "485823e3-d425-4d2c-f9ae-8194ae996b0f"
      },
      "execution_count": 7,
      "outputs": [
        {
          "output_type": "stream",
          "name": "stdout",
          "text": [
            "Help on built-in module math:\n",
            "\n",
            "NAME\n",
            "    math\n",
            "\n",
            "DESCRIPTION\n",
            "    This module provides access to the mathematical functions\n",
            "    defined by the C standard.\n",
            "\n",
            "FUNCTIONS\n",
            "    acos(x, /)\n",
            "        Return the arc cosine (measured in radians) of x.\n",
            "        \n",
            "        The result is between 0 and pi.\n",
            "    \n",
            "    acosh(x, /)\n",
            "        Return the inverse hyperbolic cosine of x.\n",
            "    \n",
            "    asin(x, /)\n",
            "        Return the arc sine (measured in radians) of x.\n",
            "        \n",
            "        The result is between -pi/2 and pi/2.\n",
            "    \n",
            "    asinh(x, /)\n",
            "        Return the inverse hyperbolic sine of x.\n",
            "    \n",
            "    atan(x, /)\n",
            "        Return the arc tangent (measured in radians) of x.\n",
            "        \n",
            "        The result is between -pi/2 and pi/2.\n",
            "    \n",
            "    atan2(y, x, /)\n",
            "        Return the arc tangent (measured in radians) of y/x.\n",
            "        \n",
            "        Unlike atan(y/x), the signs of both x and y are considered.\n",
            "    \n",
            "    atanh(x, /)\n",
            "        Return the inverse hyperbolic tangent of x.\n",
            "    \n",
            "    ceil(x, /)\n",
            "        Return the ceiling of x as an Integral.\n",
            "        \n",
            "        This is the smallest integer >= x.\n",
            "    \n",
            "    comb(n, k, /)\n",
            "        Number of ways to choose k items from n items without repetition and without order.\n",
            "        \n",
            "        Evaluates to n! / (k! * (n - k)!) when k <= n and evaluates\n",
            "        to zero when k > n.\n",
            "        \n",
            "        Also called the binomial coefficient because it is equivalent\n",
            "        to the coefficient of k-th term in polynomial expansion of the\n",
            "        expression (1 + x)**n.\n",
            "        \n",
            "        Raises TypeError if either of the arguments are not integers.\n",
            "        Raises ValueError if either of the arguments are negative.\n",
            "    \n",
            "    copysign(x, y, /)\n",
            "        Return a float with the magnitude (absolute value) of x but the sign of y.\n",
            "        \n",
            "        On platforms that support signed zeros, copysign(1.0, -0.0)\n",
            "        returns -1.0.\n",
            "    \n",
            "    cos(x, /)\n",
            "        Return the cosine of x (measured in radians).\n",
            "    \n",
            "    cosh(x, /)\n",
            "        Return the hyperbolic cosine of x.\n",
            "    \n",
            "    degrees(x, /)\n",
            "        Convert angle x from radians to degrees.\n",
            "    \n",
            "    dist(p, q, /)\n",
            "        Return the Euclidean distance between two points p and q.\n",
            "        \n",
            "        The points should be specified as sequences (or iterables) of\n",
            "        coordinates.  Both inputs must have the same dimension.\n",
            "        \n",
            "        Roughly equivalent to:\n",
            "            sqrt(sum((px - qx) ** 2.0 for px, qx in zip(p, q)))\n",
            "    \n",
            "    erf(x, /)\n",
            "        Error function at x.\n",
            "    \n",
            "    erfc(x, /)\n",
            "        Complementary error function at x.\n",
            "    \n",
            "    exp(x, /)\n",
            "        Return e raised to the power of x.\n",
            "    \n",
            "    expm1(x, /)\n",
            "        Return exp(x)-1.\n",
            "        \n",
            "        This function avoids the loss of precision involved in the direct evaluation of exp(x)-1 for small x.\n",
            "    \n",
            "    fabs(x, /)\n",
            "        Return the absolute value of the float x.\n",
            "    \n",
            "    factorial(x, /)\n",
            "        Find x!.\n",
            "        \n",
            "        Raise a ValueError if x is negative or non-integral.\n",
            "    \n",
            "    floor(x, /)\n",
            "        Return the floor of x as an Integral.\n",
            "        \n",
            "        This is the largest integer <= x.\n",
            "    \n",
            "    fmod(x, y, /)\n",
            "        Return fmod(x, y), according to platform C.\n",
            "        \n",
            "        x % y may differ.\n",
            "    \n",
            "    frexp(x, /)\n",
            "        Return the mantissa and exponent of x, as pair (m, e).\n",
            "        \n",
            "        m is a float and e is an int, such that x = m * 2.**e.\n",
            "        If x is 0, m and e are both 0.  Else 0.5 <= abs(m) < 1.0.\n",
            "    \n",
            "    fsum(seq, /)\n",
            "        Return an accurate floating point sum of values in the iterable seq.\n",
            "        \n",
            "        Assumes IEEE-754 floating point arithmetic.\n",
            "    \n",
            "    gamma(x, /)\n",
            "        Gamma function at x.\n",
            "    \n",
            "    gcd(*integers)\n",
            "        Greatest Common Divisor.\n",
            "    \n",
            "    hypot(...)\n",
            "        hypot(*coordinates) -> value\n",
            "        \n",
            "        Multidimensional Euclidean distance from the origin to a point.\n",
            "        \n",
            "        Roughly equivalent to:\n",
            "            sqrt(sum(x**2 for x in coordinates))\n",
            "        \n",
            "        For a two dimensional point (x, y), gives the hypotenuse\n",
            "        using the Pythagorean theorem:  sqrt(x*x + y*y).\n",
            "        \n",
            "        For example, the hypotenuse of a 3/4/5 right triangle is:\n",
            "        \n",
            "            >>> hypot(3.0, 4.0)\n",
            "            5.0\n",
            "    \n",
            "    isclose(a, b, *, rel_tol=1e-09, abs_tol=0.0)\n",
            "        Determine whether two floating point numbers are close in value.\n",
            "        \n",
            "          rel_tol\n",
            "            maximum difference for being considered \"close\", relative to the\n",
            "            magnitude of the input values\n",
            "          abs_tol\n",
            "            maximum difference for being considered \"close\", regardless of the\n",
            "            magnitude of the input values\n",
            "        \n",
            "        Return True if a is close in value to b, and False otherwise.\n",
            "        \n",
            "        For the values to be considered close, the difference between them\n",
            "        must be smaller than at least one of the tolerances.\n",
            "        \n",
            "        -inf, inf and NaN behave similarly to the IEEE 754 Standard.  That\n",
            "        is, NaN is not close to anything, even itself.  inf and -inf are\n",
            "        only close to themselves.\n",
            "    \n",
            "    isfinite(x, /)\n",
            "        Return True if x is neither an infinity nor a NaN, and False otherwise.\n",
            "    \n",
            "    isinf(x, /)\n",
            "        Return True if x is a positive or negative infinity, and False otherwise.\n",
            "    \n",
            "    isnan(x, /)\n",
            "        Return True if x is a NaN (not a number), and False otherwise.\n",
            "    \n",
            "    isqrt(n, /)\n",
            "        Return the integer part of the square root of the input.\n",
            "    \n",
            "    lcm(*integers)\n",
            "        Least Common Multiple.\n",
            "    \n",
            "    ldexp(x, i, /)\n",
            "        Return x * (2**i).\n",
            "        \n",
            "        This is essentially the inverse of frexp().\n",
            "    \n",
            "    lgamma(x, /)\n",
            "        Natural logarithm of absolute value of Gamma function at x.\n",
            "    \n",
            "    log(...)\n",
            "        log(x, [base=math.e])\n",
            "        Return the logarithm of x to the given base.\n",
            "        \n",
            "        If the base not specified, returns the natural logarithm (base e) of x.\n",
            "    \n",
            "    log10(x, /)\n",
            "        Return the base 10 logarithm of x.\n",
            "    \n",
            "    log1p(x, /)\n",
            "        Return the natural logarithm of 1+x (base e).\n",
            "        \n",
            "        The result is computed in a way which is accurate for x near zero.\n",
            "    \n",
            "    log2(x, /)\n",
            "        Return the base 2 logarithm of x.\n",
            "    \n",
            "    modf(x, /)\n",
            "        Return the fractional and integer parts of x.\n",
            "        \n",
            "        Both results carry the sign of x and are floats.\n",
            "    \n",
            "    nextafter(x, y, /)\n",
            "        Return the next floating-point value after x towards y.\n",
            "    \n",
            "    perm(n, k=None, /)\n",
            "        Number of ways to choose k items from n items without repetition and with order.\n",
            "        \n",
            "        Evaluates to n! / (n - k)! when k <= n and evaluates\n",
            "        to zero when k > n.\n",
            "        \n",
            "        If k is not specified or is None, then k defaults to n\n",
            "        and the function returns n!.\n",
            "        \n",
            "        Raises TypeError if either of the arguments are not integers.\n",
            "        Raises ValueError if either of the arguments are negative.\n",
            "    \n",
            "    pow(x, y, /)\n",
            "        Return x**y (x to the power of y).\n",
            "    \n",
            "    prod(iterable, /, *, start=1)\n",
            "        Calculate the product of all the elements in the input iterable.\n",
            "        \n",
            "        The default start value for the product is 1.\n",
            "        \n",
            "        When the iterable is empty, return the start value.  This function is\n",
            "        intended specifically for use with numeric values and may reject\n",
            "        non-numeric types.\n",
            "    \n",
            "    radians(x, /)\n",
            "        Convert angle x from degrees to radians.\n",
            "    \n",
            "    remainder(x, y, /)\n",
            "        Difference between x and the closest integer multiple of y.\n",
            "        \n",
            "        Return x - n*y where n*y is the closest integer multiple of y.\n",
            "        In the case where x is exactly halfway between two multiples of\n",
            "        y, the nearest even value of n is used. The result is always exact.\n",
            "    \n",
            "    sin(x, /)\n",
            "        Return the sine of x (measured in radians).\n",
            "    \n",
            "    sinh(x, /)\n",
            "        Return the hyperbolic sine of x.\n",
            "    \n",
            "    sqrt(x, /)\n",
            "        Return the square root of x.\n",
            "    \n",
            "    tan(x, /)\n",
            "        Return the tangent of x (measured in radians).\n",
            "    \n",
            "    tanh(x, /)\n",
            "        Return the hyperbolic tangent of x.\n",
            "    \n",
            "    trunc(x, /)\n",
            "        Truncates the Real x to the nearest Integral toward 0.\n",
            "        \n",
            "        Uses the __trunc__ magic method.\n",
            "    \n",
            "    ulp(x, /)\n",
            "        Return the value of the least significant bit of the float x.\n",
            "\n",
            "DATA\n",
            "    e = 2.718281828459045\n",
            "    inf = inf\n",
            "    nan = nan\n",
            "    pi = 3.141592653589793\n",
            "    tau = 6.283185307179586\n",
            "\n",
            "FILE\n",
            "    (built-in)\n",
            "\n",
            "\n",
            "Help on built-in function log in module math:\n",
            "\n",
            "log(...)\n",
            "    log(x, [base=math.e])\n",
            "    Return the logarithm of x to the given base.\n",
            "    \n",
            "    If the base not specified, returns the natural logarithm (base e) of x.\n",
            "\n"
          ]
        }
      ]
    },
    {
      "cell_type": "markdown",
      "source": [
        "fractions"
      ],
      "metadata": {
        "id": "Bd2vh8cmCrvS"
      }
    },
    {
      "cell_type": "code",
      "source": [
        "import fractions\n",
        "a = fractions.Fraction(2,3)\n",
        "b = fractions.Fraction(1,2)\n",
        "print(a + b)\n",
        "print(type(a))"
      ],
      "metadata": {
        "colab": {
          "base_uri": "https://localhost:8080/"
        },
        "id": "gC9WWkoSCsOl",
        "outputId": "62bb753f-c7d0-48e7-fc83-0ddad1a6b663"
      },
      "execution_count": 9,
      "outputs": [
        {
          "output_type": "stream",
          "name": "stdout",
          "text": [
            "7/6\n",
            "<class 'fractions.Fraction'>\n"
          ]
        }
      ]
    },
    {
      "cell_type": "markdown",
      "source": [
        "la fonction isinstance permet de vérifier le type référencé par une variable"
      ],
      "metadata": {
        "id": "7vCs1QrVC3Is"
      }
    },
    {
      "cell_type": "code",
      "source": [
        "print(isinstance(a, fractions.Fraction))\n",
        "a = fractions.Fraction(1,1)\n",
        "print(isinstance(a,int))"
      ],
      "metadata": {
        "id": "-Es_v-2jC3zl"
      },
      "execution_count": null,
      "outputs": []
    },
    {
      "cell_type": "markdown",
      "source": [
        "on peut convertir de float vers int ou encore complexe ...\n",
        "\n"
      ],
      "metadata": {
        "id": "PktnuASlC6PC"
      }
    },
    {
      "cell_type": "code",
      "source": [
        "x = 1.5\n",
        "print(x, type(x))\n",
        "x = int(x)\n",
        "print(x, type(x))\n",
        "z = complex(x)\n",
        "print(z, type(z))"
      ],
      "metadata": {
        "id": "0c4NA2JkDBI7"
      },
      "execution_count": null,
      "outputs": []
    },
    {
      "cell_type": "markdown",
      "source": [
        "... mais pas l'inverse car risque de perte d'information"
      ],
      "metadata": {
        "id": "_9fMYbTwDDv9"
      }
    },
    {
      "cell_type": "code",
      "source": [
        "# x = float(z)\n",
        "# print(x, type(x))\n",
        "# TypeError: can't convert complex to float\n"
      ],
      "metadata": {
        "id": "uGrT88t1DMUg"
      },
      "execution_count": null,
      "outputs": []
    },
    {
      "cell_type": "markdown",
      "source": [
        "opérateurs"
      ],
      "metadata": {
        "id": "tjxMSXppDPqx"
      }
    },
    {
      "cell_type": "code",
      "source": [
        "print(True and False)"
      ],
      "metadata": {
        "id": "_yOwZ0KcDQkj"
      },
      "execution_count": null,
      "outputs": []
    },
    {
      "cell_type": "markdown",
      "source": [
        "comparaisons"
      ],
      "metadata": {
        "id": "vgyL3M9ODSkf"
      }
    },
    {
      "cell_type": "code",
      "source": [
        "print(2 > 1)\n",
        "print(2 > 2)\n",
        "print(2 >= 2)\n",
        "print(2 == 2)\n",
        "print(2 != 3)"
      ],
      "metadata": {
        "id": "7Z9GLB2-DUcN"
      },
      "execution_count": null,
      "outputs": []
    }
  ]
}